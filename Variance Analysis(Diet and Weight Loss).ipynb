{
 "cells": [
  {
   "cell_type": "markdown",
   "id": "51bfe7d4",
   "metadata": {},
   "source": [
    "<h2>\n",
    "    Diet and Weight Loss\n",
    "</h2>\n",
    "\n",
    "<h3>\n",
    "    Description: \n",
    "</h3>\n",
    "<p>\n",
    "The data set Diet.csv contains information on 78 people who undertook one of three diets. There is background information such as age, gender and height. The aim of the study was to see which diet was best for losing weight so the independent variable (group) is diet.\n",
    "</p>\n",
    "<h3>Format: </h3><p> A data frame with 7 variables:</p>\n",
    "\n",
    "<ul>\n",
    "  <li>Gender - gender</li>\n",
    "  <li>Age - age</li>\n",
    "  <li>Height - body height</li>\n",
    "  <li>Diet.type - three types of diet</li>\n",
    "  <li>Initial.weight - three types of diet</li>\n",
    "  <li>Final.weight - final weight after diet</li>\n",
    "</ul>"
   ]
  },
  {
   "cell_type": "markdown",
   "id": "ed301e07",
   "metadata": {},
   "source": [
    "<h3>\n",
    "    Importing Libraries and Dataset \n",
    "</h3>"
   ]
  },
  {
   "cell_type": "code",
   "execution_count": 94,
   "id": "e833e741",
   "metadata": {},
   "outputs": [],
   "source": [
    "import numpy as np\n",
    "import pandas as pd\n",
    "from scipy import stats\n",
    "from scipy.special import comb\n",
    "from statsmodels.stats.multicomp import pairwise_tukeyhsd\n",
    "from statsmodels.formula.api import ols\n",
    "from statsmodels.stats.anova import anova_lm\n",
    "import statsmodels.api as sm\n",
    "import seaborn as sns\n",
    "import pingouin as pg"
   ]
  },
  {
   "cell_type": "code",
   "execution_count": 95,
   "id": "395c8890",
   "metadata": {},
   "outputs": [],
   "source": [
    "df = pd.read_csv('C:/Users/Максим/Desktop/Statistics/diet.csv', sep='\\t')"
   ]
  },
  {
   "cell_type": "code",
   "execution_count": 96,
   "id": "3c037183",
   "metadata": {},
   "outputs": [
    {
     "data": {
      "text/html": [
       "<div>\n",
       "<style scoped>\n",
       "    .dataframe tbody tr th:only-of-type {\n",
       "        vertical-align: middle;\n",
       "    }\n",
       "\n",
       "    .dataframe tbody tr th {\n",
       "        vertical-align: top;\n",
       "    }\n",
       "\n",
       "    .dataframe thead th {\n",
       "        text-align: right;\n",
       "    }\n",
       "</style>\n",
       "<table border=\"1\" class=\"dataframe\">\n",
       "  <thead>\n",
       "    <tr style=\"text-align: right;\">\n",
       "      <th></th>\n",
       "      <th>id</th>\n",
       "      <th>gender</th>\n",
       "      <th>age</th>\n",
       "      <th>height</th>\n",
       "      <th>diet.type</th>\n",
       "      <th>initial.weight</th>\n",
       "      <th>final.weight</th>\n",
       "    </tr>\n",
       "  </thead>\n",
       "  <tbody>\n",
       "    <tr>\n",
       "      <th>0</th>\n",
       "      <td>1</td>\n",
       "      <td>Female</td>\n",
       "      <td>22</td>\n",
       "      <td>159</td>\n",
       "      <td>A</td>\n",
       "      <td>58</td>\n",
       "      <td>54.2</td>\n",
       "    </tr>\n",
       "    <tr>\n",
       "      <th>1</th>\n",
       "      <td>2</td>\n",
       "      <td>Female</td>\n",
       "      <td>46</td>\n",
       "      <td>192</td>\n",
       "      <td>A</td>\n",
       "      <td>60</td>\n",
       "      <td>54.0</td>\n",
       "    </tr>\n",
       "    <tr>\n",
       "      <th>2</th>\n",
       "      <td>3</td>\n",
       "      <td>Female</td>\n",
       "      <td>55</td>\n",
       "      <td>170</td>\n",
       "      <td>A</td>\n",
       "      <td>64</td>\n",
       "      <td>63.3</td>\n",
       "    </tr>\n",
       "    <tr>\n",
       "      <th>3</th>\n",
       "      <td>4</td>\n",
       "      <td>Female</td>\n",
       "      <td>33</td>\n",
       "      <td>171</td>\n",
       "      <td>A</td>\n",
       "      <td>64</td>\n",
       "      <td>61.1</td>\n",
       "    </tr>\n",
       "    <tr>\n",
       "      <th>4</th>\n",
       "      <td>5</td>\n",
       "      <td>Female</td>\n",
       "      <td>50</td>\n",
       "      <td>170</td>\n",
       "      <td>A</td>\n",
       "      <td>65</td>\n",
       "      <td>62.2</td>\n",
       "    </tr>\n",
       "  </tbody>\n",
       "</table>\n",
       "</div>"
      ],
      "text/plain": [
       "   id  gender  age  height diet.type  initial.weight  final.weight\n",
       "0   1  Female   22     159         A              58          54.2\n",
       "1   2  Female   46     192         A              60          54.0\n",
       "2   3  Female   55     170         A              64          63.3\n",
       "3   4  Female   33     171         A              64          61.1\n",
       "4   5  Female   50     170         A              65          62.2"
      ]
     },
     "execution_count": 96,
     "metadata": {},
     "output_type": "execute_result"
    }
   ],
   "source": [
    "df.head()"
   ]
  },
  {
   "cell_type": "code",
   "execution_count": 97,
   "id": "d20c8f26",
   "metadata": {},
   "outputs": [
    {
     "data": {
      "text/plain": [
       "id                0\n",
       "gender            0\n",
       "age               0\n",
       "height            0\n",
       "diet.type         0\n",
       "initial.weight    0\n",
       "final.weight      0\n",
       "dtype: int64"
      ]
     },
     "execution_count": 97,
     "metadata": {},
     "output_type": "execute_result"
    }
   ],
   "source": [
    "df.isnull().sum()"
   ]
  },
  {
   "cell_type": "markdown",
   "id": "3d7811f6",
   "metadata": {},
   "source": [
    "<h3>\n",
    "    Renaming of columns\n",
    "</h3>"
   ]
  },
  {
   "cell_type": "code",
   "execution_count": 98,
   "id": "5f93a4b3",
   "metadata": {},
   "outputs": [
    {
     "data": {
      "text/html": [
       "<div>\n",
       "<style scoped>\n",
       "    .dataframe tbody tr th:only-of-type {\n",
       "        vertical-align: middle;\n",
       "    }\n",
       "\n",
       "    .dataframe tbody tr th {\n",
       "        vertical-align: top;\n",
       "    }\n",
       "\n",
       "    .dataframe thead th {\n",
       "        text-align: right;\n",
       "    }\n",
       "</style>\n",
       "<table border=\"1\" class=\"dataframe\">\n",
       "  <thead>\n",
       "    <tr style=\"text-align: right;\">\n",
       "      <th></th>\n",
       "      <th>id</th>\n",
       "      <th>gender</th>\n",
       "      <th>age</th>\n",
       "      <th>height</th>\n",
       "      <th>diet_type</th>\n",
       "      <th>initial_weight</th>\n",
       "      <th>final_weight</th>\n",
       "    </tr>\n",
       "  </thead>\n",
       "  <tbody>\n",
       "    <tr>\n",
       "      <th>0</th>\n",
       "      <td>1</td>\n",
       "      <td>Female</td>\n",
       "      <td>22</td>\n",
       "      <td>159</td>\n",
       "      <td>A</td>\n",
       "      <td>58</td>\n",
       "      <td>54.2</td>\n",
       "    </tr>\n",
       "  </tbody>\n",
       "</table>\n",
       "</div>"
      ],
      "text/plain": [
       "   id  gender  age  height diet_type  initial_weight  final_weight\n",
       "0   1  Female   22     159         A              58          54.2"
      ]
     },
     "execution_count": 98,
     "metadata": {},
     "output_type": "execute_result"
    }
   ],
   "source": [
    "df.rename(columns={'diet.type':'diet_type', 'initial.weight':'initial_weight', 'final.weight':'final_weight'},inplace = True)\n",
    "df.head(1)"
   ]
  },
  {
   "cell_type": "markdown",
   "id": "36a09287",
   "metadata": {},
   "source": [
    "<h3>\n",
    "    Adding a new column: the difference between final and initial weight\n",
    "</h3>"
   ]
  },
  {
   "cell_type": "code",
   "execution_count": 99,
   "id": "bb25bf36",
   "metadata": {},
   "outputs": [
    {
     "data": {
      "text/html": [
       "<div>\n",
       "<style scoped>\n",
       "    .dataframe tbody tr th:only-of-type {\n",
       "        vertical-align: middle;\n",
       "    }\n",
       "\n",
       "    .dataframe tbody tr th {\n",
       "        vertical-align: top;\n",
       "    }\n",
       "\n",
       "    .dataframe thead th {\n",
       "        text-align: right;\n",
       "    }\n",
       "</style>\n",
       "<table border=\"1\" class=\"dataframe\">\n",
       "  <thead>\n",
       "    <tr style=\"text-align: right;\">\n",
       "      <th></th>\n",
       "      <th>id</th>\n",
       "      <th>gender</th>\n",
       "      <th>age</th>\n",
       "      <th>height</th>\n",
       "      <th>diet_type</th>\n",
       "      <th>initial_weight</th>\n",
       "      <th>final_weight</th>\n",
       "      <th>weight_loss</th>\n",
       "    </tr>\n",
       "  </thead>\n",
       "  <tbody>\n",
       "    <tr>\n",
       "      <th>0</th>\n",
       "      <td>1</td>\n",
       "      <td>Female</td>\n",
       "      <td>22</td>\n",
       "      <td>159</td>\n",
       "      <td>A</td>\n",
       "      <td>58</td>\n",
       "      <td>54.2</td>\n",
       "      <td>3.8</td>\n",
       "    </tr>\n",
       "    <tr>\n",
       "      <th>1</th>\n",
       "      <td>2</td>\n",
       "      <td>Female</td>\n",
       "      <td>46</td>\n",
       "      <td>192</td>\n",
       "      <td>A</td>\n",
       "      <td>60</td>\n",
       "      <td>54.0</td>\n",
       "      <td>6.0</td>\n",
       "    </tr>\n",
       "    <tr>\n",
       "      <th>2</th>\n",
       "      <td>3</td>\n",
       "      <td>Female</td>\n",
       "      <td>55</td>\n",
       "      <td>170</td>\n",
       "      <td>A</td>\n",
       "      <td>64</td>\n",
       "      <td>63.3</td>\n",
       "      <td>0.7</td>\n",
       "    </tr>\n",
       "  </tbody>\n",
       "</table>\n",
       "</div>"
      ],
      "text/plain": [
       "   id  gender  age  height diet_type  initial_weight  final_weight  \\\n",
       "0   1  Female   22     159         A              58          54.2   \n",
       "1   2  Female   46     192         A              60          54.0   \n",
       "2   3  Female   55     170         A              64          63.3   \n",
       "\n",
       "   weight_loss  \n",
       "0          3.8  \n",
       "1          6.0  \n",
       "2          0.7  "
      ]
     },
     "execution_count": 99,
     "metadata": {},
     "output_type": "execute_result"
    }
   ],
   "source": [
    "df['weight_loss'] = df['initial_weight'] - df['final_weight']\n",
    "df.head(3)"
   ]
  },
  {
   "cell_type": "markdown",
   "id": "509c7682",
   "metadata": {},
   "source": [
    "<h3>\n",
    "    Group Information: count, mean, median\n",
    "</h3>"
   ]
  },
  {
   "cell_type": "code",
   "execution_count": 100,
   "id": "57d07fe0",
   "metadata": {},
   "outputs": [
    {
     "data": {
      "text/html": [
       "<div>\n",
       "<style scoped>\n",
       "    .dataframe tbody tr th:only-of-type {\n",
       "        vertical-align: middle;\n",
       "    }\n",
       "\n",
       "    .dataframe tbody tr th {\n",
       "        vertical-align: top;\n",
       "    }\n",
       "\n",
       "    .dataframe thead tr th {\n",
       "        text-align: left;\n",
       "    }\n",
       "\n",
       "    .dataframe thead tr:last-of-type th {\n",
       "        text-align: right;\n",
       "    }\n",
       "</style>\n",
       "<table border=\"1\" class=\"dataframe\">\n",
       "  <thead>\n",
       "    <tr>\n",
       "      <th></th>\n",
       "      <th colspan=\"3\" halign=\"left\">weight_loss</th>\n",
       "    </tr>\n",
       "    <tr>\n",
       "      <th></th>\n",
       "      <th>count</th>\n",
       "      <th>mean</th>\n",
       "      <th>median</th>\n",
       "    </tr>\n",
       "    <tr>\n",
       "      <th>diet_type</th>\n",
       "      <th></th>\n",
       "      <th></th>\n",
       "      <th></th>\n",
       "    </tr>\n",
       "  </thead>\n",
       "  <tbody>\n",
       "    <tr>\n",
       "      <th>A</th>\n",
       "      <td>24</td>\n",
       "      <td>3.300000</td>\n",
       "      <td>3.05</td>\n",
       "    </tr>\n",
       "    <tr>\n",
       "      <th>B</th>\n",
       "      <td>25</td>\n",
       "      <td>3.268000</td>\n",
       "      <td>3.50</td>\n",
       "    </tr>\n",
       "    <tr>\n",
       "      <th>C</th>\n",
       "      <td>27</td>\n",
       "      <td>5.148148</td>\n",
       "      <td>5.40</td>\n",
       "    </tr>\n",
       "  </tbody>\n",
       "</table>\n",
       "</div>"
      ],
      "text/plain": [
       "          weight_loss                 \n",
       "                count      mean median\n",
       "diet_type                             \n",
       "A                  24  3.300000   3.05\n",
       "B                  25  3.268000   3.50\n",
       "C                  27  5.148148   5.40"
      ]
     },
     "execution_count": 100,
     "metadata": {},
     "output_type": "execute_result"
    }
   ],
   "source": [
    "(df.groupby('diet_type')\n",
    " .agg({'weight_loss': ['count',np.mean,np.median]}))"
   ]
  },
  {
   "cell_type": "markdown",
   "id": "5b1002d2",
   "metadata": {},
   "source": [
    "<h2>\n",
    "    One-way analysis of variance\n",
    "</h2>"
   ]
  },
  {
   "cell_type": "markdown",
   "id": "4c9c473f",
   "metadata": {},
   "source": [
    "<h3>\n",
    "    Requirements for analysis of variance: \n",
    "</h3>\n",
    "\n",
    "<ul>\n",
    "  <li>The variances within our groups should be approximately the same (requirement for homogeneity of variances)</li>\n",
    "  <li>If the volumes of the groups are not large enough (less than 30) and do not match in size,<br> then it is important to comply with the requirement for the normal distribution of samples</li>\n",
    "</ul>\n",
    "\n"
   ]
  },
  {
   "cell_type": "markdown",
   "id": "8d56d3ad",
   "metadata": {},
   "source": [
    "<h3>\n",
    "    Let's check the homogeneity of groups using Levene's test \n",
    "</h3>\n",
    "<p>Let's formulate a hypothesis:</p>\n",
    "<ul>\n",
    "  <li>H0 p-value > 0.05, variances within groups are homogeneous, do not reject the H0 hypothesis</li>\n",
    "  <li>H1 p-value < 0.05, variances within groups are not homogeneous, reject the H0 hypothesis</li>\n",
    "</ul>"
   ]
  },
  {
   "cell_type": "code",
   "execution_count": 101,
   "id": "e51243a4",
   "metadata": {},
   "outputs": [
    {
     "data": {
      "text/plain": [
       "LeveneResult(statistic=0.46290764582507116, pvalue=0.6312856401117967)"
      ]
     },
     "execution_count": 101,
     "metadata": {},
     "output_type": "execute_result"
    }
   ],
   "source": [
    "stats.levene(df[df['diet_type']==\"A\"]['weight_loss'], \n",
    "                   df[df['diet_type']==\"B\"]['weight_loss'], \n",
    "                   df[df['diet_type']==\"C\"]['weight_loss'])"
   ]
  },
  {
   "cell_type": "markdown",
   "id": "f068a5d5",
   "metadata": {},
   "source": [
    "<p><b>p-value > 0.05, do not reject the H0 hypothesis</b></p>"
   ]
  },
  {
   "cell_type": "markdown",
   "id": "767eb2d3",
   "metadata": {},
   "source": [
    "<h3>\n",
    "    Let's check the sample for normality using the Shapiro-Wilk test, and also build QQ-plots \n",
    "</h3>"
   ]
  },
  {
   "cell_type": "code",
   "execution_count": 102,
   "id": "3c68d990",
   "metadata": {},
   "outputs": [
    {
     "data": {
      "text/plain": [
       "ShapiroResult(statistic=0.9255314469337463, pvalue=0.07748671621084213)"
      ]
     },
     "execution_count": 102,
     "metadata": {},
     "output_type": "execute_result"
    }
   ],
   "source": [
    "stats.shapiro(df[df['diet_type'] == 'A']['weight_loss'])"
   ]
  },
  {
   "cell_type": "code",
   "execution_count": 103,
   "id": "aec4d80c",
   "metadata": {},
   "outputs": [
    {
     "data": {
      "text/plain": [
       "ShapiroResult(statistic=0.9793620705604553, pvalue=0.8721737861633301)"
      ]
     },
     "execution_count": 103,
     "metadata": {},
     "output_type": "execute_result"
    }
   ],
   "source": [
    "stats.shapiro(df[df['diet_type'] == 'B']['weight_loss'])"
   ]
  },
  {
   "cell_type": "code",
   "execution_count": 104,
   "id": "6b9343fa",
   "metadata": {},
   "outputs": [
    {
     "data": {
      "text/plain": [
       "ShapiroResult(statistic=0.9601252675056458, pvalue=0.37203603982925415)"
      ]
     },
     "execution_count": 104,
     "metadata": {},
     "output_type": "execute_result"
    }
   ],
   "source": [
    "stats.shapiro(df[df['diet_type'] == 'C']['weight_loss'])"
   ]
  },
  {
   "cell_type": "markdown",
   "id": "5f22b87a",
   "metadata": {},
   "source": [
    "<p><b>The distribution of weight_loss in groups A, B and C is normal, p-value>0.05</b></p>"
   ]
  },
  {
   "cell_type": "code",
   "execution_count": 105,
   "id": "2e958a7d",
   "metadata": {
    "scrolled": false
   },
   "outputs": [
    {
     "data": {
      "image/png": "[encoded data removed]",
      "text/plain": [
       "<Figure size 1080x360 with 3 Axes>"
      ]
     },
     "metadata": {},
     "output_type": "display_data"
    }
   ],
   "source": [
    "fig, (ax1, ax2, ax3) = plt.subplots(1, 3, figsize=(15, 5))\n",
    "\n",
    "x = df[df['diet_type'] == 'A']['weight_loss']\n",
    "res = stats.probplot(x, dist=stats.loggamma, sparams=(2.5,), plot=ax1)\n",
    "ax1.set_title('QQplot group A')\n",
    "\n",
    "x = df[df['diet_type'] == 'B']['weight_loss']\n",
    "res = stats.probplot(x, dist=stats.loggamma, sparams=(2.5,), plot=ax2)\n",
    "ax2.set_title('QQplot group B')\n",
    "\n",
    "x = df[df['diet_type'] == 'C']['weight_loss']\n",
    "res = stats.probplot(x, dist=stats.loggamma, sparams=(2.5,), plot=ax3)\n",
    "ax3.set_title('QQplot group C')\n",
    "plt.show()"
   ]
  },
  {
   "cell_type": "markdown",
   "id": "cedc513b",
   "metadata": {},
   "source": [
    "<h3>\n",
    "    The one-way ANOVA tests the null hypothesis that two or more groups have the same population mean\n",
    "</h3>"
   ]
  },
  {
   "cell_type": "markdown",
   "id": "62bc6178",
   "metadata": {},
   "source": [
    "<p>Let's formulate a hypothesis:</p>\n",
    "<ul>\n",
    "  <li>H0 p-value > 0.05, none of the sample means differs from the other (no differences)</li>\n",
    "  <li>H1 p-value < 0.05, at least one sample mean differs from others (there are differences as\n",
    "between at least two groups)</li>\n",
    "</ul>"
   ]
  },
  {
   "cell_type": "code",
   "execution_count": 106,
   "id": "b4200fd5",
   "metadata": {},
   "outputs": [
    {
     "data": {
      "text/plain": [
       "F_onewayResult(statistic=5.383104474859926, pvalue=0.006595853108669741)"
      ]
     },
     "execution_count": 106,
     "metadata": {},
     "output_type": "execute_result"
    }
   ],
   "source": [
    "stats.f_oneway(df[df['diet_type']==\"A\"]['weight_loss'], \n",
    "               df[df['diet_type']==\"B\"]['weight_loss'], \n",
    "               df[df['diet_type']==\"C\"]['weight_loss'])"
   ]
  },
  {
   "cell_type": "markdown",
   "id": "207e4e51",
   "metadata": {},
   "source": [
    "<p><b>Since the p-value is less than 0.05, then\n",
    "we reject the null hypothesis and conclude that the mean of at least one of the groups\n",
    "significantly different from the average in other groups, p-value<0.05</b></p>"
   ]
  },
  {
   "cell_type": "markdown",
   "id": "bb7e1753",
   "metadata": {},
   "source": [
    "<h3>\n",
    "    Due to testing several hypotheses at once, the probability of a type I error artificially increases\n",
    "</h3>"
   ]
  },
  {
   "cell_type": "code",
   "execution_count": 107,
   "id": "e0632c0d",
   "metadata": {},
   "outputs": [
    {
     "data": {
      "text/plain": [
       "0.1426250000000001"
      ]
     },
     "execution_count": 107,
     "metadata": {},
     "output_type": "execute_result"
    }
   ],
   "source": [
    "1-(1-0.05)**comb(3, 2, exact=True)"
   ]
  },
  {
   "cell_type": "markdown",
   "id": "6c895171",
   "metadata": {},
   "source": [
    "<p><b>For α = 0.05 and m = 3, the probability of making a Type I error is 0.143%</b></p>"
   ]
  },
  {
   "cell_type": "markdown",
   "id": "fc4ad25f",
   "metadata": {},
   "source": [
    "<h3>\n",
    "    Tukey's test to determine between which groups there are statistically significant differences\n",
    "</h3>"
   ]
  },
  {
   "cell_type": "code",
   "execution_count": 108,
   "id": "f87e1821",
   "metadata": {},
   "outputs": [
    {
     "name": "stdout",
     "output_type": "stream",
     "text": [
      "Multiple Comparison of Means - Tukey HSD, FWER=0.05\n",
      "===================================================\n",
      "group1 group2 meandiff p-adj   lower  upper  reject\n",
      "---------------------------------------------------\n",
      "     A      B   -0.032 0.9988 -1.6531 1.5891  False\n",
      "     A      C   1.8481 0.0188  0.2567 3.4396   True\n",
      "     B      C   1.8801 0.0152  0.3057 3.4546   True\n",
      "---------------------------------------------------\n"
     ]
    }
   ],
   "source": [
    "print(pairwise_tukeyhsd(endog=df['weight_loss'], groups=df['diet_type'], alpha=0.05))"
   ]
  },
  {
   "cell_type": "markdown",
   "id": "771d801d",
   "metadata": {},
   "source": [
    "<p><b>There are statistically significant differences between groups A and C, B and C. The most effective diet in group C.</b></p>"
   ]
  },
  {
   "cell_type": "code",
   "execution_count": 109,
   "id": "b5fe0289",
   "metadata": {},
   "outputs": [
    {
     "data": {
      "image/png": "[encoded data removed]",
      "text/plain": [
       "<Figure size 1008x504 with 1 Axes>"
      ]
     },
     "metadata": {},
     "output_type": "display_data"
    }
   ],
   "source": [
    "ax = sns.boxplot(data=df, x=\"diet_type\", y=\"weight_loss\")"
   ]
  },
  {
   "cell_type": "code",
   "execution_count": 110,
   "id": "a50c145b",
   "metadata": {},
   "outputs": [
    {
     "data": {
      "text/html": [
       "<div>\n",
       "<style scoped>\n",
       "    .dataframe tbody tr th:only-of-type {\n",
       "        vertical-align: middle;\n",
       "    }\n",
       "\n",
       "    .dataframe tbody tr th {\n",
       "        vertical-align: top;\n",
       "    }\n",
       "\n",
       "    .dataframe thead th {\n",
       "        text-align: right;\n",
       "    }\n",
       "</style>\n",
       "<table border=\"1\" class=\"dataframe\">\n",
       "  <thead>\n",
       "    <tr style=\"text-align: right;\">\n",
       "      <th></th>\n",
       "      <th>id</th>\n",
       "      <th>gender</th>\n",
       "      <th>age</th>\n",
       "      <th>height</th>\n",
       "      <th>diet_type</th>\n",
       "      <th>initial_weight</th>\n",
       "      <th>final_weight</th>\n",
       "      <th>weight_loss</th>\n",
       "    </tr>\n",
       "  </thead>\n",
       "  <tbody>\n",
       "    <tr>\n",
       "      <th>7</th>\n",
       "      <td>8</td>\n",
       "      <td>Female</td>\n",
       "      <td>28</td>\n",
       "      <td>176</td>\n",
       "      <td>A</td>\n",
       "      <td>69</td>\n",
       "      <td>60.5</td>\n",
       "      <td>8.5</td>\n",
       "    </tr>\n",
       "    <tr>\n",
       "      <th>47</th>\n",
       "      <td>19</td>\n",
       "      <td>Male</td>\n",
       "      <td>43</td>\n",
       "      <td>162</td>\n",
       "      <td>A</td>\n",
       "      <td>80</td>\n",
       "      <td>71.0</td>\n",
       "      <td>9.0</td>\n",
       "    </tr>\n",
       "  </tbody>\n",
       "</table>\n",
       "</div>"
      ],
      "text/plain": [
       "    id  gender  age  height diet_type  initial_weight  final_weight  \\\n",
       "7    8  Female   28     176         A              69          60.5   \n",
       "47  19    Male   43     162         A              80          71.0   \n",
       "\n",
       "    weight_loss  \n",
       "7           8.5  \n",
       "47          9.0  "
      ]
     },
     "execution_count": 110,
     "metadata": {},
     "output_type": "execute_result"
    }
   ],
   "source": [
    "df.query(\"diet_type == 'A' & weight_loss in [8.5,9]\")"
   ]
  },
  {
   "cell_type": "markdown",
   "id": "2f7d7626",
   "metadata": {},
   "source": [
    "<h2>\n",
    "    Multivariate ANOVA\n",
    "</h2>"
   ]
  },
  {
   "cell_type": "markdown",
   "id": "d8a133a5",
   "metadata": {},
   "source": [
    "<h3>\n",
    "    Group Information: count, mean, median\n",
    "</h3>"
   ]
  },
  {
   "cell_type": "code",
   "execution_count": 111,
   "id": "7af8af17",
   "metadata": {},
   "outputs": [
    {
     "data": {
      "text/html": [
       "<div>\n",
       "<style scoped>\n",
       "    .dataframe tbody tr th:only-of-type {\n",
       "        vertical-align: middle;\n",
       "    }\n",
       "\n",
       "    .dataframe tbody tr th {\n",
       "        vertical-align: top;\n",
       "    }\n",
       "\n",
       "    .dataframe thead tr th {\n",
       "        text-align: left;\n",
       "    }\n",
       "</style>\n",
       "<table border=\"1\" class=\"dataframe\">\n",
       "  <thead>\n",
       "    <tr>\n",
       "      <th></th>\n",
       "      <th>diet_type</th>\n",
       "      <th>gender</th>\n",
       "      <th colspan=\"3\" halign=\"left\">weight_loss</th>\n",
       "    </tr>\n",
       "    <tr>\n",
       "      <th></th>\n",
       "      <th></th>\n",
       "      <th></th>\n",
       "      <th>count</th>\n",
       "      <th>mean</th>\n",
       "      <th>median</th>\n",
       "    </tr>\n",
       "  </thead>\n",
       "  <tbody>\n",
       "    <tr>\n",
       "      <th>0</th>\n",
       "      <td>A</td>\n",
       "      <td>Female</td>\n",
       "      <td>14</td>\n",
       "      <td>3.050000</td>\n",
       "      <td>2.85</td>\n",
       "    </tr>\n",
       "    <tr>\n",
       "      <th>1</th>\n",
       "      <td>A</td>\n",
       "      <td>Male</td>\n",
       "      <td>10</td>\n",
       "      <td>3.650000</td>\n",
       "      <td>3.70</td>\n",
       "    </tr>\n",
       "    <tr>\n",
       "      <th>2</th>\n",
       "      <td>B</td>\n",
       "      <td>Female</td>\n",
       "      <td>14</td>\n",
       "      <td>2.607143</td>\n",
       "      <td>2.85</td>\n",
       "    </tr>\n",
       "    <tr>\n",
       "      <th>3</th>\n",
       "      <td>B</td>\n",
       "      <td>Male</td>\n",
       "      <td>11</td>\n",
       "      <td>4.109091</td>\n",
       "      <td>4.30</td>\n",
       "    </tr>\n",
       "    <tr>\n",
       "      <th>4</th>\n",
       "      <td>C</td>\n",
       "      <td>Female</td>\n",
       "      <td>15</td>\n",
       "      <td>5.880000</td>\n",
       "      <td>6.80</td>\n",
       "    </tr>\n",
       "    <tr>\n",
       "      <th>5</th>\n",
       "      <td>C</td>\n",
       "      <td>Male</td>\n",
       "      <td>12</td>\n",
       "      <td>4.233333</td>\n",
       "      <td>3.80</td>\n",
       "    </tr>\n",
       "  </tbody>\n",
       "</table>\n",
       "</div>"
      ],
      "text/plain": [
       "  diet_type  gender weight_loss                 \n",
       "                          count      mean median\n",
       "0         A  Female          14  3.050000   2.85\n",
       "1         A    Male          10  3.650000   3.70\n",
       "2         B  Female          14  2.607143   2.85\n",
       "3         B    Male          11  4.109091   4.30\n",
       "4         C  Female          15  5.880000   6.80\n",
       "5         C    Male          12  4.233333   3.80"
      ]
     },
     "execution_count": 111,
     "metadata": {},
     "output_type": "execute_result"
    }
   ],
   "source": [
    "(df.groupby(['diet_type', 'gender'], as_index=False)\n",
    " .agg({'weight_loss': ['count',np.mean,np.median]}))"
   ]
  },
  {
   "cell_type": "code",
   "execution_count": 112,
   "id": "a7a92e46",
   "metadata": {},
   "outputs": [
    {
     "data": {
      "text/html": [
       "<div>\n",
       "<style scoped>\n",
       "    .dataframe tbody tr th:only-of-type {\n",
       "        vertical-align: middle;\n",
       "    }\n",
       "\n",
       "    .dataframe tbody tr th {\n",
       "        vertical-align: top;\n",
       "    }\n",
       "\n",
       "    .dataframe thead th {\n",
       "        text-align: right;\n",
       "    }\n",
       "</style>\n",
       "<table border=\"1\" class=\"dataframe\">\n",
       "  <thead>\n",
       "    <tr style=\"text-align: right;\">\n",
       "      <th></th>\n",
       "      <th>Source</th>\n",
       "      <th>SS</th>\n",
       "      <th>DF</th>\n",
       "      <th>MS</th>\n",
       "      <th>F</th>\n",
       "      <th>p-unc</th>\n",
       "      <th>np2</th>\n",
       "    </tr>\n",
       "  </thead>\n",
       "  <tbody>\n",
       "    <tr>\n",
       "      <th>0</th>\n",
       "      <td>diet_type</td>\n",
       "      <td>60.4172</td>\n",
       "      <td>2.0</td>\n",
       "      <td>30.2086</td>\n",
       "      <td>5.6190</td>\n",
       "      <td>0.0055</td>\n",
       "      <td>0.1383</td>\n",
       "    </tr>\n",
       "    <tr>\n",
       "      <th>1</th>\n",
       "      <td>gender</td>\n",
       "      <td>0.1687</td>\n",
       "      <td>1.0</td>\n",
       "      <td>0.1687</td>\n",
       "      <td>0.0314</td>\n",
       "      <td>0.8599</td>\n",
       "      <td>0.0004</td>\n",
       "    </tr>\n",
       "    <tr>\n",
       "      <th>2</th>\n",
       "      <td>diet_type * gender</td>\n",
       "      <td>33.9041</td>\n",
       "      <td>2.0</td>\n",
       "      <td>16.9520</td>\n",
       "      <td>3.1532</td>\n",
       "      <td>0.0488</td>\n",
       "      <td>0.0826</td>\n",
       "    </tr>\n",
       "    <tr>\n",
       "      <th>3</th>\n",
       "      <td>Residual</td>\n",
       "      <td>376.3290</td>\n",
       "      <td>70.0</td>\n",
       "      <td>5.3761</td>\n",
       "      <td>NaN</td>\n",
       "      <td>NaN</td>\n",
       "      <td>NaN</td>\n",
       "    </tr>\n",
       "  </tbody>\n",
       "</table>\n",
       "</div>"
      ],
      "text/plain": [
       "               Source        SS    DF       MS       F   p-unc     np2\n",
       "0           diet_type   60.4172   2.0  30.2086  5.6190  0.0055  0.1383\n",
       "1              gender    0.1687   1.0   0.1687  0.0314  0.8599  0.0004\n",
       "2  diet_type * gender   33.9041   2.0  16.9520  3.1532  0.0488  0.0826\n",
       "3            Residual  376.3290  70.0   5.3761     NaN     NaN     NaN"
      ]
     },
     "execution_count": 112,
     "metadata": {},
     "output_type": "execute_result"
    }
   ],
   "source": [
    "model2 = pg.anova(data=df, dv='weight_loss', between=['diet_type', 'gender'], detailed=True)\n",
    "round(model2, 4)"
   ]
  },
  {
   "cell_type": "markdown",
   "id": "2369e0b9",
   "metadata": {},
   "source": [
    "<p><b>The gender of the participant does not have a statistical effect on the outcome of the diet.</b></p>"
   ]
  },
  {
   "cell_type": "code",
   "execution_count": 113,
   "id": "cf2431f4",
   "metadata": {},
   "outputs": [
    {
     "data": {
      "image/png": "[encoded data removed]",
      "text/plain": [
       "<Figure size 1008x504 with 1 Axes>"
      ]
     },
     "metadata": {},
     "output_type": "display_data"
    }
   ],
   "source": [
    "ax = sns.boxplot(data=df, x=\"diet_type\", y=\"weight_loss\", hue=\"gender\")"
   ]
  },
  {
   "cell_type": "code",
   "execution_count": 114,
   "id": "9a74e0a1",
   "metadata": {},
   "outputs": [
    {
     "data": {
      "image/png": "[encoded data removed]",
      "text/plain": [
       "<Figure size 1008x504 with 1 Axes>"
      ]
     },
     "metadata": {},
     "output_type": "display_data"
    }
   ],
   "source": [
    "sns.set_style(\"whitegrid\")\n",
    "sns.set(rc={'figure.figsize':(14,7)})\n",
    "sns.pointplot(x='diet_type' , y='weight_loss' , data=df, hue='gender')\n",
    "sns.despine()"
   ]
  },
  {
   "cell_type": "markdown",
   "id": "e81ff522",
   "metadata": {},
   "source": [
    "<p><b>The group factor turned out to be SIGNIFICANT, the segment gender - NOT SIGNIFICANT, their interaction - SIGNIFICANT.</b></p>"
   ]
  }
 ],
 "metadata": {
  "kernelspec": {
   "display_name": "Python 3 (ipykernel)",
   "language": "python",
   "name": "python3"
  },
  "language_info": {
   "codemirror_mode": {
    "name": "ipython",
    "version": 3
   },
   "file_extension": ".py",
   "mimetype": "text/x-python",
   "name": "python",
   "nbconvert_exporter": "python",
   "pygments_lexer": "ipython3",
   "version": "3.10.0"
  }
 },
 "nbformat": 4,
 "nbformat_minor": 5
}
